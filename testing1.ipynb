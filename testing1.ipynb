{
 "cells": [
  {
   "cell_type": "code",
   "execution_count": null,
   "metadata": {},
   "outputs": [],
   "source": [
    "import pandas as pd\n",
    "import dash\n",
    "import numpy as np\n",
    "import matplotlib.pyplot as plt\n",
    "import geopandas as gpd\n",
    "import plotly.express as px\n",
    "import json\n",
    "import geojson\n",
    "import math"
   ]
  },
  {
   "cell_type": "code",
   "execution_count": null,
   "metadata": {},
   "outputs": [],
   "source": [
    "def load_and_preprocess_odjemalci():\n",
    "    df_odjemalci = pd.read_csv(\"data/podatki_vrsta_odjemalca.csv\", delimiter=\",\", encoding=\"windows-1250\")\n",
    "    df_starost_prebivalcev = pd.read_csv(\"data/podatki_starost_prebivalcev.csv\", delimiter=\",\", encoding=\"windows-1250\")\n",
    "\n",
    "    df_map_slovenija = gpd.read_file('slovenija_map/obcine/obcine.shp')\n",
    "    df_map_slovenija = df_map_slovenija.to_crs(\"WGS84\")\n",
    "    df_map_slovenija = df_map_slovenija.rename({'NAZIV': 'District'}, axis = 'columns')\n",
    "    df_map_slovenija = df_map_slovenija.drop(columns = ['EID_OBCINA',  'SIFRA', 'NAZIV_DJ', 'OZNAKA_MES', 'DATUM_SYS'])\n",
    "    df_map_slovenija = df_map_slovenija.sort_values('District')\n",
    "    df_map_slovenija = df_map_slovenija.reset_index(drop=True)\n",
    "\n",
    "    df_odjemalci = df_odjemalci.drop(df_odjemalci.columns[[2,3,4,5,6,7,8,9,10,11,12,13,26,27,28,29,30,31,32,33,34]], axis=1)\n",
    "    df_odjemalci[\"Poraba\"] = df_odjemalci.iloc[:,2:14].sum(axis=1)\n",
    "    df_odjemalci = df_odjemalci.drop(df_odjemalci.columns[[1,2,3,4,5,6,7,8,9,10,11,12,13]], axis=1)\n",
    "\n",
    "    df_odjemalci_skupaj = df_odjemalci[3:-3:+3]\n",
    "    df_odjemalci_gospodinjstva = df_odjemalci[4:-3:+3]\n",
    "    df_odjemalci_industrija = df_odjemalci[5:-3:+3]\n",
    "    df_starost_prebivalcev = df_starost_prebivalcev[1::]\n",
    "\n",
    "    df_odjemalci_skupaj = df_odjemalci_skupaj.sort_values('OBČINE')\n",
    "    df_odjemalci_gospodinjstva = df_odjemalci_gospodinjstva.sort_values('OBČINE')\n",
    "    df_odjemalci_industrija = df_odjemalci_industrija.sort_values('OBČINE')\n",
    "    df_starost_prebivalcev = df_starost_prebivalcev.sort_values('OBČINE')\n",
    "\n",
    "    obcine = []\n",
    "    for obcina in list(df_odjemalci_skupaj[\"OBČINE\"]):\n",
    "        if \"/\" in obcina:\n",
    "            obcina = obcina.split(\"/\")[0]\n",
    "        obcine.append(obcina)\n",
    "\n",
    "    df_odjemalci_skupaj[\"OBČINE\"] = obcine\n",
    "    df_odjemalci_gospodinjstva[\"OBČINE\"] = obcine\n",
    "    df_odjemalci_industrija[\"OBČINE\"] = obcine\n",
    "    df_starost_prebivalcev[\"OBČINE\"] = obcine\n",
    "    df_map_slovenija[\"District\"] = obcine\n",
    "\n",
    "    df_odjemalci_skupaj = df_odjemalci_skupaj.reset_index(drop=True)\n",
    "    df_odjemalci_gospodinjstva = df_odjemalci_gospodinjstva.reset_index(drop=True)\n",
    "    df_odjemalci_industrija = df_odjemalci_industrija.reset_index(drop=True)\n",
    "    df_starost_prebivalcev = df_starost_prebivalcev.reset_index(drop=True)\n",
    "\n",
    "    df_starost_prebivalcev.drop(['2020H1 Starost - SKUPAJ', '2020H2 Starost - SKUPAJ', '2021H1 Starost - SKUPAJ'], axis=1, inplace=True)\n",
    "    df_starost_prebivalcev.rename(columns={'2021H2 Starost - SKUPAJ':'POPULACIJA'}, inplace=True)\n",
    "\n",
    "    df_odjemalci_gospodinjstva_norm = pd.DataFrame({'OBČINE': df_odjemalci_gospodinjstva['OBČINE'],\n",
    "                                                    'Poraba': df_odjemalci_gospodinjstva[\"Poraba\"]/df_starost_prebivalcev[\"POPULACIJA\"]\n",
    "                                                    })\n",
    "\n",
    "    odjemalci_dict = {\n",
    "        'skupaj': df_odjemalci_skupaj,\n",
    "        'gospodinjstvo': df_odjemalci_gospodinjstva,\n",
    "        'industrija': df_odjemalci_industrija,\n",
    "        'gospodinjstvo_norm': df_odjemalci_gospodinjstva_norm,\n",
    "        'df_map': df_map_slovenija\n",
    "    }\n",
    "\n",
    "    return odjemalci_dict\n",
    "\n",
    "odjemalci_dict = load_and_preprocess_odjemalci()"
   ]
  },
  {
   "cell_type": "code",
   "execution_count": null,
   "metadata": {},
   "outputs": [],
   "source": [
    "def load_and_preprocess_dejavnosti():\n",
    "    df_dejavnosti = pd.read_csv(\"data/podatki_dejavnosti.csv\", delimiter=\",\", encoding=\"windows-1250\")\n",
    "    dejavnosti_dict = {}\n",
    "\n",
    "    for i in range(23, 45):\n",
    "        df = df_dejavnosti[i:-i:+i]\n",
    "        dejavnosti_dict[str(df_dejavnosti.iloc[i]['SKD DEJAVNOST'])[2:]] = df\n",
    "\n",
    "    return dejavnosti_dict"
   ]
  },
  {
   "cell_type": "code",
   "execution_count": null,
   "metadata": {},
   "outputs": [],
   "source": [
    "from urllib.request import urlopen\n",
    "import json\n",
    "with urlopen('https://raw.githubusercontent.com/plotly/datasets/master/geojson-counties-fips.json') as response:\n",
    "    counties = json.load(response)\n",
    "\n",
    "l = [i['properties']['NAME'] for i in counties[\"features\"]]\n",
    "l.sort()\n",
    "\n",
    "for i in l: print(i)"
   ]
  }
 ],
 "metadata": {
  "kernelspec": {
   "display_name": "Python 3.11.0 ('venvmt': venv)",
   "language": "python",
   "name": "python3"
  },
  "language_info": {
   "codemirror_mode": {
    "name": "ipython",
    "version": 3
   },
   "file_extension": ".py",
   "mimetype": "text/x-python",
   "name": "python",
   "nbconvert_exporter": "python",
   "pygments_lexer": "ipython3",
   "version": "3.10.0 (tags/v3.10.0:b494f59, Oct  4 2021, 19:00:18) [MSC v.1929 64 bit (AMD64)]"
  },
  "orig_nbformat": 4,
  "vscode": {
   "interpreter": {
    "hash": "366429cb1e04a8132a93ca6a42a379fd84b4725d76548ec535598adb6b4d5b5c"
   }
  }
 },
 "nbformat": 4,
 "nbformat_minor": 2
}
