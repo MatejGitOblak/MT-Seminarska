{
 "cells": [
  {
   "cell_type": "code",
   "execution_count": 49,
   "metadata": {},
   "outputs": [],
   "source": [
    "import pandas as pd\n",
    "import numpy as np\n",
    "\n",
    "df_dejavnosti = pd.read_csv(\"data/podatki_po_dejavnostih.csv\", delimiter=\",\", encoding=\"windows-1250\")\n",
    "df_odjemalci = pd.read_csv(\"data/podatki_vrsta_odjemalca.csv\", delimiter=\",\", encoding=\"windows-1250\")"
   ]
  }
 ],
 "metadata": {
  "kernelspec": {
   "display_name": "Python 3.10.1 ('venv': venv)",
   "language": "python",
   "name": "python3"
  },
  "language_info": {
   "codemirror_mode": {
    "name": "ipython",
    "version": 3
   },
   "file_extension": ".py",
   "mimetype": "text/x-python",
   "name": "python",
   "nbconvert_exporter": "python",
   "pygments_lexer": "ipython3",
   "version": "3.10.1"
  },
  "orig_nbformat": 4,
  "vscode": {
   "interpreter": {
    "hash": "5317105a051d659b1505c016a00f4f0d4341306bc689ccb331487b8f2535c48a"
   }
  }
 },
 "nbformat": 4,
 "nbformat_minor": 2
}
