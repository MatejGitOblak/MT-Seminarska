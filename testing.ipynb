{
 "cells": [
  {
   "cell_type": "code",
   "execution_count": null,
   "metadata": {},
   "outputs": [],
   "source": [
    "import pandas as pd\n",
    "import dash\n",
    "import numpy as np\n",
    "import matplotlib.pyplot as plt\n",
    "import geopandas as gpd\n",
    "import plotly.express as px\n",
    "import json\n",
    "import geojson\n",
    "import math\n",
    "\n",
    "\n",
    "df_dejavnosti = pd.read_csv(\"data/podatki_po_dejavnostih.csv\", delimiter=\",\", encoding=\"windows-1250\")\n",
    "df_odjemalci = pd.read_csv(\"data/podatki_vrsta_odjemalca.csv\", delimiter=\",\", encoding=\"windows-1250\")"
   ]
  },
  {
   "cell_type": "code",
   "execution_count": null,
   "metadata": {},
   "outputs": [],
   "source": [
    "df_odjemalci_backup = df_odjemalci.copy()\n",
    "\n",
    "#Tukaj vzamemo samo podatke za VSE SKUPAJ porabo (brez gospodinjstva in poslovnih objektov)\n",
    "df = df_odjemalci_backup[::+3]\n",
    "#Tukaj izbrišem podatke za SLOVENIJO in Neznano vrstice\n",
    "df = df[1:-1]\n",
    "\n",
    "#Priprava podatkov za uporabo\n",
    "df = df.drop(\"VRSTA ODJEMALCA\", axis=1)\n",
    "obcine = {df[\"OBČINE\"][i]:i for i in df.index}\n",
    "\n",
    "vse_2020 = dict(df[df.columns[1:13]].sum(axis=1))\n",
    "\n",
    "dict_porab = dict([(k,vse_2020[k]) for k in vse_2020])\n",
    "\n",
    "#V koncem dictu so shranjene OBČINE (ključ) z vrednostmi, ki so LISTI, \n",
    "# ki prikazujejo porabo za vsako občino za vsako leto posebaj\n",
    "koncni_dict = dict()\n",
    "for k,v in obcine.items():\n",
    "    koncni_dict[k] = dict_porab[v]\n"
   ]
  },
  {
   "cell_type": "code",
   "execution_count": null,
   "metadata": {},
   "outputs": [],
   "source": [
    "def izrisi_odjemalci_Slovenija(odjemalci, leto):\n",
    "    df_odjemalci = odjemalci.copy()\n",
    "    df=df_odjemalci[::+3]\n",
    "    df = df[1:-1]\n",
    "    df = df.drop(\"VRSTA ODJEMALCA\", axis=1)\n",
    "    obcine = {df[\"OBČINE\"][i]:i for i in df.index}\n",
    "\n",
    "    dict_porab = dict()\n",
    "    if leto == 2020:\n",
    "        vse_2020 = dict(df[df.columns[1:13]].sum(axis=1))\n",
    "        dict_porab = dict([(k,[vse_2020[k]]) for k in vse_2020])\n",
    "    elif leto == 2021:\n",
    "        vse_2021 = dict(df[df.columns[13:25]].sum(axis=1))\n",
    "        dict_porab = dict([(k,[vse_2021[k]]) for k in vse_2021])\n",
    "\n",
    "    koncni_dict = dict()\n",
    "    for k,v in obcine.items():\n",
    "        koncni_dict[k] = dict_porab[v]\n",
    "    \n",
    "    return pd.DataFrame.from_dict(koncni_dict).transpose()"
   ]
  },
  {
   "cell_type": "code",
   "execution_count": null,
   "metadata": {},
   "outputs": [],
   "source": [
    "def izrisi_odjemalci_gospodinjstva(odjemalci, leto):\n",
    "    df_odjemalci = odjemalci.copy()\n",
    "    df=df_odjemalci[1::+3]\n",
    "    df = df[1:-1]\n",
    "    df = df.drop(\"VRSTA ODJEMALCA\", axis=1)\n",
    "    obcine = {df[\"OBČINE\"][i]:i for i in df.index}\n",
    "\n",
    "    dict_porab = dict()\n",
    "    if leto == 2020:\n",
    "        vse_2020 = dict(df[df.columns[1:13]].sum(axis=1))\n",
    "        dict_porab = dict([(k,[vse_2020[k]]) for k in vse_2020])\n",
    "    elif leto == 2021:\n",
    "        vse_2021 = dict(df[df.columns[13:25]].sum(axis=1))\n",
    "        dict_porab = dict([(k,[vse_2021[k]]) for k in vse_2021])\n",
    "\n",
    "    koncni_dict = dict()\n",
    "    for k,v in obcine.items():\n",
    "        koncni_dict[k] = dict_porab[v]\n",
    "\n",
    " \n",
    "    return pd.DataFrame.from_dict(koncni_dict).transpose()\n"
   ]
  },
  {
   "cell_type": "code",
   "execution_count": null,
   "metadata": {},
   "outputs": [],
   "source": [
    "def izrisi_odjemalci_poslovni_objekti(odjemalci, leto):\n",
    "    df_odjemalci = odjemalci.copy()\n",
    "    df=df_odjemalci[2::+3]\n",
    "    df = df[1:-1]\n",
    "    df = df.drop(\"VRSTA ODJEMALCA\", axis=1)\n",
    "    obcine = {df[\"OBČINE\"][i]:i for i in df.index}\n",
    "\n",
    "    dict_porab = dict()\n",
    "    if leto == 2020:\n",
    "        vse_2020 = dict(df[df.columns[1:13]].sum(axis=1))\n",
    "        dict_porab = dict([(k,[vse_2020[k]]) for k in vse_2020])\n",
    "    elif leto == 2021:\n",
    "        vse_2021 = dict(df[df.columns[13:25]].sum(axis=1))\n",
    "        dict_porab = dict([(k,[vse_2021[k]]) for k in vse_2021])\n",
    "\n",
    "    koncni_dict = dict()\n",
    "    for k,v in obcine.items():\n",
    "        koncni_dict[k] = dict_porab[v]\n",
    "\n",
    "    return pd.DataFrame.from_dict(koncni_dict).transpose()"
   ]
  },
  {
   "cell_type": "code",
   "execution_count": null,
   "metadata": {},
   "outputs": [],
   "source": [
    "#Izris podatkov PRIMERI (2020 in 2021)\n",
    "df = izrisi_odjemalci_Slovenija(df_odjemalci, 2020)\n",
    "#izrisi_odjemalci_gospodinjstva(df_odjemalci, 2020)\n",
    "#izrisi_odjemalci_poslovni_objekti(df_odjemalci, 2020)"
   ]
  },
  {
   "cell_type": "code",
   "execution_count": null,
   "metadata": {},
   "outputs": [],
   "source": [
    "map_df1 = gpd.read_file('slovenija_map/obcine/obcine.shp')\n",
    "map_df1 = map_df1.to_crs(\"WGS84\")\n",
    "map_df1 = map_df1.rename({'NAZIV': 'District'}, axis = 'columns')\n",
    "map_df1 = map_df1.drop(columns = ['EID_OBCINA',  'SIFRA', 'NAZIV_DJ', 'OZNAKA_MES', 'DATUM_SYS'])\n",
    "map_df1 = map_df1.sort_values('District')\n",
    "\n",
    "list(map_df1[\"District\"])"
   ]
  },
  {
   "cell_type": "code",
   "execution_count": null,
   "metadata": {},
   "outputs": [],
   "source": [
    "df = df.sort_index()\n",
    "list(df.index)"
   ]
  },
  {
   "cell_type": "code",
   "execution_count": null,
   "metadata": {},
   "outputs": [],
   "source": [
    "map_df = gpd.read_file('slovenija_map/obcine/obcine.shp')\n",
    "map_df = map_df.to_crs(\"WGS84\")\n",
    "map_df = map_df.rename({'NAZIV': 'District'}, axis = 'columns')\n",
    "map_df = map_df.drop(columns = ['EID_OBCINA',  'SIFRA', 'NAZIV_DJ', 'OZNAKA_MES', 'DATUM_SYS'])\n",
    "map_df = map_df.sort_values('District')\n",
    "\n",
    "\n",
    "map_df.loc[map_df[\"District\"] == \"Ljubljana\"]"
   ]
  },
  {
   "cell_type": "code",
   "execution_count": null,
   "metadata": {},
   "outputs": [],
   "source": [
    "list(df[0].values)"
   ]
  },
  {
   "cell_type": "code",
   "execution_count": null,
   "metadata": {},
   "outputs": [],
   "source": [
    "def uredi_data_prebivalci(prebivalci_data, mapdf):\n",
    "    df = prebivalci_data.copy()\n",
    "    df = df.rename({'OBČINE': 'District'}, axis = 'columns')\n",
    "    df = df.drop(df.index[0])\n",
    "\n",
    "    df.index = mapdf.index\n",
    "    df[\"District\"] = mapdf[\"District\"]\n",
    "\n",
    "    df[\"2020_skupaj\"] = ((df[\"2020H1 Starost - SKUPAJ\"] + df[\"2020H2 Starost - SKUPAJ\"]) / 2).astype(int)\n",
    "    df[\"2021_skupaj\"] = ((df[\"2021H1 Starost - SKUPAJ\"] + df[\"2021H2 Starost - SKUPAJ\"]) / 2).astype(int)\n",
    "    df = df.drop(columns = [\"2021H1 Starost - SKUPAJ\",  '2021H2 Starost - SKUPAJ', '2020H1 Starost - SKUPAJ', '2020H2 Starost - SKUPAJ'])\n",
    "\n",
    "    return df"
   ]
  },
  {
   "cell_type": "code",
   "execution_count": null,
   "metadata": {},
   "outputs": [],
   "source": [
    "df_prebivalci = pd.read_csv(\"data/podatki_starost_prebivalcev.csv\", delimiter=\",\", encoding=\"windows-1250\")\n",
    "\n",
    "\n",
    "def izracun_normalizacije_Slovenija(mapdf, leto):\n",
    "    urejeni = uredi_data_prebivalci(df_prebivalci, map_df)\n",
    "    df = izrisi_odjemalci_Slovenija(df_odjemalci, leto)\n",
    "    df.insert(0,'District', df.index)\n",
    "    df.index = mapdf.index\n",
    "    if leto == 2020:\n",
    "        df[\"Poraba\"] = round(df[0] / urejeni[\"2020_skupaj\"],2)\n",
    "    elif leto == 2021:\n",
    "        df[\"Poraba\"] = round(df[0] / urejeni[\"2021_skupaj\"],2)\n",
    "\n",
    "    df = df.drop(columns={0})\n",
    "    return df\n",
    "\n",
    "def izracun_normalizacije_gospodinjstva(mapdf, leto):\n",
    "    urejeni = uredi_data_prebivalci(df_prebivalci, map_df)\n",
    "    df = izrisi_odjemalci_gospodinjstva(df_odjemalci, leto)\n",
    "    df.insert(0,'District', df.index)\n",
    "    df.index = mapdf.index\n",
    "    if leto == 2020:\n",
    "        df[\"Poraba\"] = round(df[0] / urejeni[\"2020_skupaj\"],2)\n",
    "    elif leto == 2021:\n",
    "        df[\"Poraba\"] = round(df[0] / urejeni[\"2021_skupaj\"],2)\n",
    "\n",
    "    df = df.drop(columns={0})\n",
    "    return df\n",
    "\n",
    "def izracun_normalizacije_poslovni_objekti(mapdf, leto):\n",
    "    urejeni = uredi_data_prebivalci(df_prebivalci, map_df)\n",
    "    df = izrisi_odjemalci_poslovni_objekti(df_odjemalci, leto)\n",
    "    df.insert(0,'District', df.index)\n",
    "    df.index = mapdf.index\n",
    "    if leto == 2020:\n",
    "        df[\"Poraba\"] = round(df[0] / urejeni[\"2020_skupaj\"],2)\n",
    "    elif leto == 2021:\n",
    "        df[\"Poraba\"] = round(df[0] / urejeni[\"2021_skupaj\"],2)\n",
    "\n",
    "    df = df.drop(columns={0})\n",
    "    return df\n",
    "\n",
    "#izracun_normalizacije_Slovenija(map_df, 2020)\n",
    "#izracun_normalizacije_gospodinjstva(map_df, 2020)\n",
    "#izracun_normalizacije_poslovni_objekti(map_df, 2021)\n"
   ]
  },
  {
   "cell_type": "code",
   "execution_count": null,
   "metadata": {},
   "outputs": [],
   "source": [
    "map_df"
   ]
  }
 ],
 "metadata": {
  "kernelspec": {
   "display_name": "Python 3.11.0 ('venvmt': venv)",
   "language": "python",
   "name": "python3"
  },
  "language_info": {
   "codemirror_mode": {
    "name": "ipython",
    "version": 3
   },
   "file_extension": ".py",
   "mimetype": "text/x-python",
   "name": "python",
   "nbconvert_exporter": "python",
   "pygments_lexer": "ipython3",
   "version": "3.10.0"
  },
  "orig_nbformat": 4,
  "vscode": {
   "interpreter": {
    "hash": "366429cb1e04a8132a93ca6a42a379fd84b4725d76548ec535598adb6b4d5b5c"
   }
  }
 },
 "nbformat": 4,
 "nbformat_minor": 2
}
