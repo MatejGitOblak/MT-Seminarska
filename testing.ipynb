{
 "cells": [
  {
   "cell_type": "code",
   "execution_count": null,
   "metadata": {},
   "outputs": [],
   "source": [
    "import pandas as pd\n",
    "import dash\n",
    "import numpy as np\n",
    "import matplotlib.pyplot as plt\n",
    "import geopandas as gpd\n",
    "\n",
    "df_dejavnosti = pd.read_csv(\"data/podatki_po_dejavnostih.csv\", delimiter=\",\", encoding=\"windows-1250\")\n",
    "df_odjemalci = pd.read_csv(\"data/podatki_vrsta_odjemalca.csv\", delimiter=\",\", encoding=\"windows-1250\")"
   ]
  },
  {
   "cell_type": "code",
   "execution_count": null,
   "metadata": {},
   "outputs": [],
   "source": [
    "df_odjemalci_backup = df_odjemalci.copy()\n",
    "\n",
    "#Tukaj vzamemo samo podatke za VSE SKUPAJ porabo (brez gospodinjstva in poslovnih objektov)\n",
    "df = df_odjemalci_backup[::+3]\n",
    "#Tukaj izbrišem podatke za SLOVENIJO in Neznano vrstice\n",
    "df = df[1:-1]\n",
    "\n",
    "#Priprava podatkov za uporabo\n",
    "df = df.drop(\"VRSTA ODJEMALCA\", axis=1)\n",
    "obcine = {df[\"OBČINE\"][i]:i for i in df.index}\n",
    "\n",
    "vse_2020 = dict(df[df.columns[1:13]].sum(axis=1))\n",
    "\n",
    "dict_porab = dict([(k,vse_2020[k]) for k in vse_2020])\n",
    "\n",
    "#V koncem dictu so shranjene OBČINE (ključ) z vrednostmi, ki so LISTI, \n",
    "# ki prikazujejo porabo za vsako občino za vsako leto posebaj\n",
    "koncni_dict = dict()\n",
    "for k,v in obcine.items():\n",
    "    koncni_dict[k] = dict_porab[v]"
   ]
  },
  {
   "cell_type": "code",
   "execution_count": null,
   "metadata": {},
   "outputs": [],
   "source": [
    "def izrisi_odjemalci_Slovenija(odjemalci, leto):\n",
    "    df_odjemalci = odjemalci.copy()\n",
    "    df=df_odjemalci[::+3]\n",
    "    df = df[1:-1]\n",
    "    df = df.drop(\"VRSTA ODJEMALCA\", axis=1)\n",
    "    obcine = {df[\"OBČINE\"][i]:i for i in df.index}\n",
    "\n",
    "    dict_porab = dict()\n",
    "    if leto == 2020:\n",
    "        vse_2020 = dict(df[df.columns[1:13]].sum(axis=1))\n",
    "        dict_porab = dict([(k,[vse_2020[k]]) for k in vse_2020])\n",
    "    elif leto == 2021:\n",
    "        vse_2021 = dict(df[df.columns[13:25]].sum(axis=1))\n",
    "        dict_porab = dict([(k,[vse_2021[k]]) for k in vse_2021])\n",
    "\n",
    "    koncni_dict = dict()\n",
    "    for k,v in obcine.items():\n",
    "        koncni_dict[k] = dict_porab[v]\n",
    "    \n",
    "    return pd.DataFrame.from_dict(koncni_dict)"
   ]
  },
  {
   "cell_type": "code",
   "execution_count": null,
   "metadata": {},
   "outputs": [],
   "source": [
    "def izrisi_odjemalci_gospodinjstva(odjemalci, leto):\n",
    "    df_odjemalci = odjemalci.copy()\n",
    "    df=df_odjemalci[1::+3]\n",
    "    df = df[1:-1]\n",
    "    df = df.drop(\"VRSTA ODJEMALCA\", axis=1)\n",
    "    obcine = {df[\"OBČINE\"][i]:i for i in df.index}\n",
    "\n",
    "    dict_porab = dict()\n",
    "    if leto == 2020:\n",
    "        vse_2020 = dict(df[df.columns[1:13]].sum(axis=1))\n",
    "        dict_porab = dict([(k,[vse_2020[k]]) for k in vse_2020])\n",
    "    elif leto == 2021:\n",
    "        vse_2021 = dict(df[df.columns[13:25]].sum(axis=1))\n",
    "        dict_porab = dict([(k,[vse_2021[k]]) for k in vse_2021])\n",
    "\n",
    "    koncni_dict = dict()\n",
    "    for k,v in obcine.items():\n",
    "        koncni_dict[k] = dict_porab[v]\n",
    "\n",
    "    return pd.DataFrame.from_dict(koncni_dict)"
   ]
  },
  {
   "cell_type": "code",
   "execution_count": null,
   "metadata": {},
   "outputs": [],
   "source": [
    "def izrisi_odjemalci_poslovni_objekti(odjemalci, leto):\n",
    "    df_odjemalci = odjemalci.copy()\n",
    "    df=df_odjemalci[2::+3]\n",
    "    df = df[1:-1]\n",
    "    df = df.drop(\"VRSTA ODJEMALCA\", axis=1)\n",
    "    obcine = {df[\"OBČINE\"][i]:i for i in df.index}\n",
    "\n",
    "    dict_porab = dict()\n",
    "    if leto == 2020:\n",
    "        vse_2020 = dict(df[df.columns[1:13]].sum(axis=1))\n",
    "        dict_porab = dict([(k,[vse_2020[k]]) for k in vse_2020])\n",
    "    elif leto == 2021:\n",
    "        vse_2021 = dict(df[df.columns[13:25]].sum(axis=1))\n",
    "        dict_porab = dict([(k,[vse_2021[k]]) for k in vse_2021])\n",
    "\n",
    "    koncni_dict = dict()\n",
    "    for k,v in obcine.items():\n",
    "        koncni_dict[k] = dict_porab[v]\n",
    "\n",
    "    return pd.DataFrame.from_dict(koncni_dict)"
   ]
  },
  {
   "cell_type": "code",
   "execution_count": null,
   "metadata": {},
   "outputs": [],
   "source": [
    "#Izris podatkov PRIMERI (2020 in 2021)\n",
    "izrisi_odjemalci_Slovenija(df_odjemalci, 2020)\n",
    "#izrisi_odjemalci_gospodinjstva(df_odjemalci, 2020)\n",
    "#izrisi_odjemalci_poslovni_objekti(df_odjemalci, 2020)"
   ]
  }
 ],
 "metadata": {
  "kernelspec": {
   "display_name": "Python 3.11.0 ('venv': venv)",
   "language": "python",
   "name": "python3"
  },
  "language_info": {
   "codemirror_mode": {
    "name": "ipython",
    "version": 3
   },
   "file_extension": ".py",
   "mimetype": "text/x-python",
   "name": "python",
   "nbconvert_exporter": "python",
   "pygments_lexer": "ipython3",
   "version": "3.11.0"
  },
  "orig_nbformat": 4,
  "vscode": {
   "interpreter": {
    "hash": "5b1f4813cbd8e9a5e8f4c2820180b231d88f3bec33c7a55839018ae6cd7422c8"
   }
  }
 },
 "nbformat": 4,
 "nbformat_minor": 2
}
