{
 "cells": [
  {
   "cell_type": "code",
   "execution_count": 13,
   "metadata": {},
   "outputs": [
    {
     "data": {
      "text/plain": [
       "0      1050334322\n",
       "1       360531626\n",
       "2       689802696\n",
       "3         8109287\n",
       "4         3036044\n",
       "          ...    \n",
       "637        671567\n",
       "638        833927\n",
       "639         29017\n",
       "640         22862\n",
       "641          6155\n",
       "Name: 2020M01 (začasni podatki), Length: 642, dtype: int64"
      ]
     },
     "execution_count": 13,
     "metadata": {},
     "output_type": "execute_result"
    }
   ],
   "source": [
    "import pandas as pd\n",
    "import dash\n",
    "import numpy as np\n",
    "\n",
    "df_dejavnosti = pd.read_csv(\"data/podatki_po_dejavnostih.csv\", delimiter=\",\", encoding=\"windows-1250\")\n",
    "df_odjemalci = pd.read_csv(\"data/podatki_vrsta_odjemalca.csv\", delimiter=\",\", encoding=\"windows-1250\")\n",
    "\n",
    "df_odjemalci[\"2020M01 (začasni podatki)\"]"
   ]
  }
 ],
 "metadata": {
  "kernelspec": {
   "display_name": "Python 3.10.0 64-bit",
   "language": "python",
   "name": "python3"
  },
  "language_info": {
   "codemirror_mode": {
    "name": "ipython",
    "version": 3
   },
   "file_extension": ".py",
   "mimetype": "text/x-python",
   "name": "python",
   "nbconvert_exporter": "python",
   "pygments_lexer": "ipython3",
   "version": "3.10.0"
  },
  "orig_nbformat": 4,
  "vscode": {
   "interpreter": {
    "hash": "369f2c481f4da34e4445cda3fffd2e751bd1c4d706f27375911949ba6bb62e1c"
   }
  }
 },
 "nbformat": 4,
 "nbformat_minor": 2
}
