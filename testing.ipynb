{
 "cells": [
  {
   "cell_type": "code",
   "execution_count": null,
   "metadata": {},
   "outputs": [],
   "source": [
    "import pandas as pd\n",
    "import dash\n",
    "import numpy as np\n",
    "import matplotlib.pyplot as plt\n",
    "import geopandas as gpd\n",
    "import plotly.express as px\n",
    "import json\n",
    "import geojson\n",
    "\n",
    "\n",
    "df_dejavnosti = pd.read_csv(\"data/podatki_po_dejavnostih.csv\", delimiter=\",\", encoding=\"windows-1250\")\n",
    "df_odjemalci = pd.read_csv(\"data/podatki_vrsta_odjemalca.csv\", delimiter=\",\", encoding=\"windows-1250\")"
   ]
  },
  {
   "cell_type": "code",
   "execution_count": null,
   "metadata": {},
   "outputs": [],
   "source": [
    "df_odjemalci_backup = df_odjemalci.copy()\n",
    "\n",
    "#Tukaj vzamemo samo podatke za VSE SKUPAJ porabo (brez gospodinjstva in poslovnih objektov)\n",
    "df = df_odjemalci_backup[::+3]\n",
    "#Tukaj izbrišem podatke za SLOVENIJO in Neznano vrstice\n",
    "df = df[1:-1]\n",
    "\n",
    "#Priprava podatkov za uporabo\n",
    "df = df.drop(\"VRSTA ODJEMALCA\", axis=1)\n",
    "obcine = {df[\"OBČINE\"][i]:i for i in df.index}\n",
    "\n",
    "vse_2020 = dict(df[df.columns[1:13]].sum(axis=1))\n",
    "\n",
    "dict_porab = dict([(k,vse_2020[k]) for k in vse_2020])\n",
    "\n",
    "#V koncem dictu so shranjene OBČINE (ključ) z vrednostmi, ki so LISTI, \n",
    "# ki prikazujejo porabo za vsako občino za vsako leto posebaj\n",
    "koncni_dict = dict()\n",
    "for k,v in obcine.items():\n",
    "    koncni_dict[k] = dict_porab[v]"
   ]
  },
  {
   "cell_type": "code",
   "execution_count": null,
   "metadata": {},
   "outputs": [],
   "source": [
    "def izrisi_odjemalci_Slovenija(odjemalci, leto):\n",
    "    df_odjemalci = odjemalci.copy()\n",
    "    df=df_odjemalci[::+3]\n",
    "    df = df[1:-1]\n",
    "    df = df.drop(\"VRSTA ODJEMALCA\", axis=1)\n",
    "    obcine = {df[\"OBČINE\"][i]:i for i in df.index}\n",
    "\n",
    "    dict_porab = dict()\n",
    "    if leto == 2020:\n",
    "        vse_2020 = dict(df[df.columns[1:13]].sum(axis=1))\n",
    "        dict_porab = dict([(k,[vse_2020[k]]) for k in vse_2020])\n",
    "    elif leto == 2021:\n",
    "        vse_2021 = dict(df[df.columns[13:25]].sum(axis=1))\n",
    "        dict_porab = dict([(k,[vse_2021[k]]) for k in vse_2021])\n",
    "\n",
    "    koncni_dict = dict()\n",
    "    for k,v in obcine.items():\n",
    "        koncni_dict[k] = dict_porab[v]\n",
    "    \n",
    "    return pd.DataFrame.from_dict(koncni_dict).transpose()"
   ]
  },
  {
   "cell_type": "code",
   "execution_count": null,
   "metadata": {},
   "outputs": [],
   "source": [
    "def izrisi_odjemalci_gospodinjstva(odjemalci, leto):\n",
    "    df_odjemalci = odjemalci.copy()\n",
    "    df=df_odjemalci[1::+3]\n",
    "    df = df[1:-1]\n",
    "    df = df.drop(\"VRSTA ODJEMALCA\", axis=1)\n",
    "    obcine = {df[\"OBČINE\"][i]:i for i in df.index}\n",
    "\n",
    "    dict_porab = dict()\n",
    "    if leto == 2020:\n",
    "        vse_2020 = dict(df[df.columns[1:13]].sum(axis=1))\n",
    "        dict_porab = dict([(k,[vse_2020[k]]) for k in vse_2020])\n",
    "    elif leto == 2021:\n",
    "        vse_2021 = dict(df[df.columns[13:25]].sum(axis=1))\n",
    "        dict_porab = dict([(k,[vse_2021[k]]) for k in vse_2021])\n",
    "\n",
    "    koncni_dict = dict()\n",
    "    for k,v in obcine.items():\n",
    "        koncni_dict[k] = dict_porab[v]\n",
    "\n",
    "    return pd.DataFrame.from_dict(koncni_dict).transpose()"
   ]
  },
  {
   "cell_type": "code",
   "execution_count": null,
   "metadata": {},
   "outputs": [],
   "source": [
    "def izrisi_odjemalci_poslovni_objekti(odjemalci, leto):\n",
    "    df_odjemalci = odjemalci.copy()\n",
    "    df=df_odjemalci[2::+3]\n",
    "    df = df[1:-1]\n",
    "    df = df.drop(\"VRSTA ODJEMALCA\", axis=1)\n",
    "    obcine = {df[\"OBČINE\"][i]:i for i in df.index}\n",
    "\n",
    "    dict_porab = dict()\n",
    "    if leto == 2020:\n",
    "        vse_2020 = dict(df[df.columns[1:13]].sum(axis=1))\n",
    "        dict_porab = dict([(k,[vse_2020[k]]) for k in vse_2020])\n",
    "    elif leto == 2021:\n",
    "        vse_2021 = dict(df[df.columns[13:25]].sum(axis=1))\n",
    "        dict_porab = dict([(k,[vse_2021[k]]) for k in vse_2021])\n",
    "\n",
    "    koncni_dict = dict()\n",
    "    for k,v in obcine.items():\n",
    "        koncni_dict[k] = dict_porab[v]\n",
    "\n",
    "    return pd.DataFrame.from_dict(koncni_dict).transpose()"
   ]
  },
  {
   "cell_type": "code",
   "execution_count": null,
   "metadata": {},
   "outputs": [],
   "source": [
    "#Izris podatkov PRIMERI (2020 in 2021)\n",
    "df = izrisi_odjemalci_Slovenija(df_odjemalci, 2020)\n",
    "#izrisi_odjemalci_gospodinjstva(df_odjemalci, 2020)\n",
    "#izrisi_odjemalci_poslovni_objekti(df_odjemalci, 2020)"
   ]
  },
  {
   "cell_type": "code",
   "execution_count": null,
   "metadata": {},
   "outputs": [],
   "source": [
    "map_df1 = gpd.read_file('slovenija_map/obcine/obcine.shp')\n",
    "map_df1 = map_df1.to_crs(\"WGS84\")\n",
    "map_df1 = map_df1.rename({'NAZIV': 'District'}, axis = 'columns')\n",
    "map_df1 = map_df1.drop(columns = ['EID_OBCINA',  'SIFRA', 'NAZIV_DJ', 'OZNAKA_MES', 'DATUM_SYS'])\n",
    "map_df1 = map_df1.sort_values('District')\n",
    "\n",
    "list(map_df1[\"District\"])"
   ]
  },
  {
   "cell_type": "code",
   "execution_count": null,
   "metadata": {},
   "outputs": [],
   "source": [
    "df = df.sort_index()\n",
    "list(df.index)"
   ]
  },
  {
   "cell_type": "code",
   "execution_count": 45,
   "metadata": {},
   "outputs": [
    {
     "data": {
      "text/html": [
       "<div>\n",
       "<style scoped>\n",
       "    .dataframe tbody tr th:only-of-type {\n",
       "        vertical-align: middle;\n",
       "    }\n",
       "\n",
       "    .dataframe tbody tr th {\n",
       "        vertical-align: top;\n",
       "    }\n",
       "\n",
       "    .dataframe thead th {\n",
       "        text-align: right;\n",
       "    }\n",
       "</style>\n",
       "<table border=\"1\" class=\"dataframe\">\n",
       "  <thead>\n",
       "    <tr style=\"text-align: right;\">\n",
       "      <th></th>\n",
       "      <th>District</th>\n",
       "      <th>geometry</th>\n",
       "    </tr>\n",
       "  </thead>\n",
       "  <tbody>\n",
       "    <tr>\n",
       "      <th>190</th>\n",
       "      <td>Ljubljana</td>\n",
       "      <td>POLYGON ((14.66923 45.98865, 14.66929 45.98852...</td>\n",
       "    </tr>\n",
       "  </tbody>\n",
       "</table>\n",
       "</div>"
      ],
      "text/plain": [
       "      District                                           geometry\n",
       "190  Ljubljana  POLYGON ((14.66923 45.98865, 14.66929 45.98852..."
      ]
     },
     "execution_count": 45,
     "metadata": {},
     "output_type": "execute_result"
    }
   ],
   "source": [
    "map_df = gpd.read_file('slovenija_map/obcine/obcine.shp')\n",
    "map_df = map_df.to_crs(\"WGS84\")\n",
    "map_df = map_df.rename({'NAZIV': 'District'}, axis = 'columns')\n",
    "map_df = map_df.drop(columns = ['EID_OBCINA',  'SIFRA', 'NAZIV_DJ', 'OZNAKA_MES', 'DATUM_SYS'])\n",
    "map_df = map_df.sort_values('District')\n",
    "\n",
    "\n",
    "map_df.loc[map_df[\"District\"] == \"Ljubljana\"]"
   ]
  },
  {
   "cell_type": "code",
   "execution_count": null,
   "metadata": {},
   "outputs": [],
   "source": [
    "list(df[0].values)"
   ]
  },
  {
   "cell_type": "code",
   "execution_count": 91,
   "metadata": {},
   "outputs": [
    {
     "data": {
      "text/html": [
       "<div>\n",
       "<style scoped>\n",
       "    .dataframe tbody tr th:only-of-type {\n",
       "        vertical-align: middle;\n",
       "    }\n",
       "\n",
       "    .dataframe tbody tr th {\n",
       "        vertical-align: top;\n",
       "    }\n",
       "\n",
       "    .dataframe thead th {\n",
       "        text-align: right;\n",
       "    }\n",
       "</style>\n",
       "<table border=\"1\" class=\"dataframe\">\n",
       "  <thead>\n",
       "    <tr style=\"text-align: right;\">\n",
       "      <th></th>\n",
       "      <th></th>\n",
       "      <th>Prebivalstvo po starosti, občine, Slovenija, polletno</th>\n",
       "    </tr>\n",
       "  </thead>\n",
       "  <tbody>\n",
       "    <tr>\n",
       "      <th>OBČINE</th>\n",
       "      <th>2021H1 Starost - SKUPAJ</th>\n",
       "      <td>2021H2 Starost - SKUPAJ</td>\n",
       "    </tr>\n",
       "    <tr>\n",
       "      <th>Ajdovščina</th>\n",
       "      <th>19704</th>\n",
       "      <td>19741</td>\n",
       "    </tr>\n",
       "    <tr>\n",
       "      <th>Ankaran/Ancarano</th>\n",
       "      <th>3261</th>\n",
       "      <td>3249</td>\n",
       "    </tr>\n",
       "    <tr>\n",
       "      <th>Apače</th>\n",
       "      <th>3556</th>\n",
       "      <td>3556</td>\n",
       "    </tr>\n",
       "    <tr>\n",
       "      <th>Beltinci</th>\n",
       "      <th>8068</th>\n",
       "      <td>8110</td>\n",
       "    </tr>\n",
       "    <tr>\n",
       "      <th>...</th>\n",
       "      <th>...</th>\n",
       "      <td>...</td>\n",
       "    </tr>\n",
       "    <tr>\n",
       "      <th>Železniki</th>\n",
       "      <th>6699</th>\n",
       "      <td>6684</td>\n",
       "    </tr>\n",
       "    <tr>\n",
       "      <th>Žetale</th>\n",
       "      <th>1303</th>\n",
       "      <td>1303</td>\n",
       "    </tr>\n",
       "    <tr>\n",
       "      <th>Žiri</th>\n",
       "      <th>4981</th>\n",
       "      <td>4987</td>\n",
       "    </tr>\n",
       "    <tr>\n",
       "      <th>Žirovnica</th>\n",
       "      <th>4465</th>\n",
       "      <td>4478</td>\n",
       "    </tr>\n",
       "    <tr>\n",
       "      <th>Žužemberk</th>\n",
       "      <th>4741</th>\n",
       "      <td>4755</td>\n",
       "    </tr>\n",
       "  </tbody>\n",
       "</table>\n",
       "<p>213 rows × 1 columns</p>\n",
       "</div>"
      ],
      "text/plain": [
       "                                         Prebivalstvo po starosti, občine, Slovenija, polletno\n",
       "OBČINE           2021H1 Starost - SKUPAJ                            2021H2 Starost - SKUPAJ   \n",
       "Ajdovščina       19704                                                                19741   \n",
       "Ankaran/Ancarano 3261                                                                  3249   \n",
       "Apače            3556                                                                  3556   \n",
       "Beltinci         8068                                                                  8110   \n",
       "...                                                                                     ...   \n",
       "Železniki        6699                                                                  6684   \n",
       "Žetale           1303                                                                  1303   \n",
       "Žiri             4981                                                                  4987   \n",
       "Žirovnica        4465                                                                  4478   \n",
       "Žužemberk        4741                                                                  4755   \n",
       "\n",
       "[213 rows x 1 columns]"
      ]
     },
     "execution_count": 91,
     "metadata": {},
     "output_type": "execute_result"
    }
   ],
   "source": [
    "df_prebivalci = pd.read_csv(\"data/podatki_starost_prebivalcev.csv\", delimiter=\",\", encoding=\"windows-1250\")\n",
    "\n",
    "df = df_prebivalci.copy()\n",
    "df = df.rename({'OBČINE': 'District'}, axis = 'columns')\n",
    "\n",
    "df1 = df.drop(df.index[1])\n",
    "\n",
    "df1"
   ]
  }
 ],
 "metadata": {
  "kernelspec": {
   "display_name": "Python 3.11.0 ('venvmt': venv)",
   "language": "python",
   "name": "python3"
  },
  "language_info": {
   "codemirror_mode": {
    "name": "ipython",
    "version": 3
   },
   "file_extension": ".py",
   "mimetype": "text/x-python",
   "name": "python",
   "nbconvert_exporter": "python",
   "pygments_lexer": "ipython3",
   "version": "3.11.0"
  },
  "orig_nbformat": 4,
  "vscode": {
   "interpreter": {
    "hash": "366429cb1e04a8132a93ca6a42a379fd84b4725d76548ec535598adb6b4d5b5c"
   }
  }
 },
 "nbformat": 4,
 "nbformat_minor": 2
}
